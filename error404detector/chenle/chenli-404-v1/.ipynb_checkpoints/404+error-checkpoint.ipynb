{
 "cells": [
  {
   "cell_type": "markdown",
   "metadata": {},
   "source": [
    "## The preprocessing of the dataset"
   ]
  },
  {
   "cell_type": "code",
   "execution_count": 3,
   "metadata": {},
   "outputs": [],
   "source": [
    "import pandas as pd\n",
    "import sklearn as skn\n",
    "import matplotlib.pyplot as plt\n",
    "from bs4 import BeautifulSoup as bs\n",
    "import re\n",
    "import os\n",
    "import numpy as np\n",
    "from systemtools.location import *"
   ]
  },
  {
   "cell_type": "code",
   "execution_count": 2,
   "metadata": {},
   "outputs": [],
   "source": [
    "# Remove all the tags, scripts in the html\n",
    "def clean_html(html):\n",
    "    soup = bs(html)\n",
    "    try:\n",
    "        title = soup.title.contents[0]\n",
    "    except (AttributeError, IndexError):\n",
    "        title = ''\n",
    "    for s in soup(['script','style']):\n",
    "        s.decompose()\n",
    "    return ' '.join(soup.stripped_strings), title"
   ]
  },
  {
   "cell_type": "code",
   "execution_count": 145,
   "metadata": {},
   "outputs": [
    {
     "name": "stderr",
     "output_type": "stream",
     "text": [
      "/Users/lichenle/anaconda/lib/python3.6/site-packages/bs4/__init__.py:181: UserWarning: No parser was explicitly specified, so I'm using the best available HTML parser for this system (\"lxml\"). This usually isn't a problem, but if you run this code on another system, or in a different virtual environment, it may use a different parser and behave differently.\n",
      "\n",
      "The code that caused this warning is on line 193 of the file /Users/lichenle/anaconda/lib/python3.6/runpy.py. To get rid of this warning, change code that looks like this:\n",
      "\n",
      " BeautifulSoup([your markup])\n",
      "\n",
      "to this:\n",
      "\n",
      " BeautifulSoup([your markup], \"lxml\")\n",
      "\n",
      "  markup_type=markup_type))\n"
     ]
    }
   ],
   "source": [
    "html_folder = dataDri() + \"/Misc/error404/from-newslist/\"\n",
    "train = []\n",
    "# This step I will transfer all the data original in to titles and bodies by tags <title> and <p>.\n",
    "for html_part in os.listdir(html_folder):\n",
    "    #print(html_part)\n",
    "    if not html_part.startswith('.'): \n",
    "        if html_part == 'ok':\n",
    "            mark = True\n",
    "        elif html_part == '404':\n",
    "            mark = False\n",
    "        else:\n",
    "            mark = 'NaN'\n",
    "        html_part_path = html_folder+html_part\n",
    "        for html in os.listdir(html_part_path):\n",
    "            html_path = html_part_path+\"/\"+html\n",
    "            #print(html_path)\n",
    "            temp = {}    \n",
    "            temp['body'], temp['title'] = clean_html(open(html_path))\n",
    "            temp['type'] = mark\n",
    "            temp['path'] = html_part+html\n",
    "            train.append(temp)"
   ]
  },
  {
   "cell_type": "code",
   "execution_count": 146,
   "metadata": {},
   "outputs": [],
   "source": [
    "train_df = pd.DataFrame(train, columns=['title', 'body', 'type'])"
   ]
  },
  {
   "cell_type": "code",
   "execution_count": 147,
   "metadata": {},
   "outputs": [
    {
     "name": "stdout",
     "output_type": "stream",
     "text": [
      "<class 'pandas.core.frame.DataFrame'>\n",
      "RangeIndex: 310 entries, 0 to 309\n",
      "Data columns (total 3 columns):\n",
      "title    310 non-null object\n",
      "body     310 non-null object\n",
      "type     310 non-null bool\n",
      "dtypes: bool(1), object(2)\n",
      "memory usage: 5.2+ KB\n"
     ]
    },
    {
     "data": {
      "text/html": [
       "<div>\n",
       "<style>\n",
       "    .dataframe thead tr:only-child th {\n",
       "        text-align: right;\n",
       "    }\n",
       "\n",
       "    .dataframe thead th {\n",
       "        text-align: left;\n",
       "    }\n",
       "\n",
       "    .dataframe tbody tr th {\n",
       "        vertical-align: top;\n",
       "    }\n",
       "</style>\n",
       "<table border=\"1\" class=\"dataframe\">\n",
       "  <thead>\n",
       "    <tr style=\"text-align: right;\">\n",
       "      <th></th>\n",
       "      <th>title</th>\n",
       "      <th>body</th>\n",
       "      <th>type</th>\n",
       "    </tr>\n",
       "  </thead>\n",
       "  <tbody>\n",
       "    <tr>\n",
       "      <th>0</th>\n",
       "      <td>Obama officials treated \"special relationship ...</td>\n",
       "      <td>Obama officials treated \"special relationship ...</td>\n",
       "      <td>True</td>\n",
       "    </tr>\n",
       "    <tr>\n",
       "      <th>1</th>\n",
       "      <td>Texas church shooter once escaped from mental ...</td>\n",
       "      <td>Texas church shooter once escaped from mental ...</td>\n",
       "      <td>True</td>\n",
       "    </tr>\n",
       "    <tr>\n",
       "      <th>2</th>\n",
       "      <td>Harvey Weinstein is finding that few in Hollyw...</td>\n",
       "      <td>Harvey Weinstein is finding that few in Hollyw...</td>\n",
       "      <td>True</td>\n",
       "    </tr>\n",
       "    <tr>\n",
       "      <th>3</th>\n",
       "      <td>Massive fire erupts at Moscow market causing c...</td>\n",
       "      <td>Massive fire erupts at Moscow market causing c...</td>\n",
       "      <td>True</td>\n",
       "    </tr>\n",
       "    <tr>\n",
       "      <th>4</th>\n",
       "      <td>Bangkok Post</td>\n",
       "      <td>Bangkok Post &lt;img src=\"//b.scorecardresearch.c...</td>\n",
       "      <td>True</td>\n",
       "    </tr>\n",
       "  </tbody>\n",
       "</table>\n",
       "</div>"
      ],
      "text/plain": [
       "                                               title  \\\n",
       "0  Obama officials treated \"special relationship ...   \n",
       "1  Texas church shooter once escaped from mental ...   \n",
       "2  Harvey Weinstein is finding that few in Hollyw...   \n",
       "3  Massive fire erupts at Moscow market causing c...   \n",
       "4                                       Bangkok Post   \n",
       "\n",
       "                                                body  type  \n",
       "0  Obama officials treated \"special relationship ...  True  \n",
       "1  Texas church shooter once escaped from mental ...  True  \n",
       "2  Harvey Weinstein is finding that few in Hollyw...  True  \n",
       "3  Massive fire erupts at Moscow market causing c...  True  \n",
       "4  Bangkok Post <img src=\"//b.scorecardresearch.c...  True  "
      ]
     },
     "execution_count": 147,
     "metadata": {},
     "output_type": "execute_result"
    }
   ],
   "source": [
    "train_df.info()\n",
    "train_df.head()"
   ]
  },
  {
   "cell_type": "markdown",
   "metadata": {},
   "source": [
    "## Data Analysis"
   ]
  },
  {
   "cell_type": "markdown",
   "metadata": {},
   "source": [
    "### Length Analysis"
   ]
  },
  {
   "cell_type": "code",
   "execution_count": 148,
   "metadata": {},
   "outputs": [],
   "source": [
    "# Illustre Respectivement The Length Variation of words of title and body of 404 and ok.\n",
    "length_title_True = []\n",
    "length_body_True = []\n",
    "length_title_False = []\n",
    "length_body_False = []\n",
    "for row in train_df.itertuples():\n",
    "    #print(row)\n",
    "    if row[3] == False:\n",
    "        length_title_False.append(len(row[1]))\n",
    "        length_body_False.append(len(row[2]))\n",
    "    elif row[3] == True:\n",
    "        length_title_True.append(len(row[1]))\n",
    "        length_body_True.append(len(row[2]))"
   ]
  },
  {
   "cell_type": "code",
   "execution_count": 149,
   "metadata": {},
   "outputs": [
    {
     "data": {
      "image/png": "[encoded data removed]",
      "text/plain": [
       "<matplotlib.figure.Figure at 0x1c9685da0>"
      ]
     },
     "metadata": {},
     "output_type": "display_data"
    },
    {
     "data": {
      "image/png": "[encoded data removed]",
      "text/plain": [
       "<matplotlib.figure.Figure at 0x1c9783cf8>"
      ]
     },
     "metadata": {},
     "output_type": "display_data"
    },
    {
     "data": {
      "image/png": "[encoded data removed]",
      "text/plain": [
       "<matplotlib.figure.Figure at 0x1b264fbe0>"
      ]
     },
     "metadata": {},
     "output_type": "display_data"
    },
    {
     "data": {
      "image/png": "[encoded data removed]",
      "text/plain": [
       "<matplotlib.figure.Figure at 0x1b250fe10>"
      ]
     },
     "metadata": {},
     "output_type": "display_data"
    }
   ],
   "source": [
    "plt.hist(length_title_False, bins=50, color='red', label='title_False', alpha=0.5)\n",
    "plt.title('title_False')\n",
    "plt.show()\n",
    "plt.hist(length_title_True, bins=50, color='blue', label='title_True', alpha=0.5)\n",
    "plt.title('title_True')\n",
    "plt.show()\n",
    "plt.hist(length_body_False, bins=50, color='red', label='body_False', alpha=0.5)\n",
    "plt.title('body_Flase')\n",
    "plt.show()\n",
    "plt.hist(length_body_True, bins=50, color='blue', label='title_True', alpha=0.5)\n",
    "plt.title('body_True')\n",
    "plt.show()"
   ]
  },
  {
   "cell_type": "code",
   "execution_count": 150,
   "metadata": {},
   "outputs": [
    {
     "data": {
      "image/png": "[encoded data removed]",
      "text/plain": [
       "<matplotlib.figure.Figure at 0x1c95f2588>"
      ]
     },
     "metadata": {},
     "output_type": "display_data"
    },
    {
     "data": {
      "image/png": "[encoded data removed]",
      "text/plain": [
       "<matplotlib.figure.Figure at 0x1c9b85a20>"
      ]
     },
     "metadata": {},
     "output_type": "display_data"
    }
   ],
   "source": [
    "#Seeing the graph 'body_True', we'd like to remove the outliers, so we are going to do some small modifications. \n",
    "def lessthan1(element):\n",
    "    return element < 50000\n",
    "def lessthan2(element):\n",
    "    return element < 20000\n",
    "length_body_True_modified = list(filter(lessthan1, length_body_True))\n",
    "length_body_False_modified = list(filter(lessthan2, length_body_False))\n",
    "plt.hist(length_body_False_modified, bins=50, color='red', label='body_False', alpha=0.5)\n",
    "plt.title('body_False_modified')\n",
    "plt.show()\n",
    "plt.hist(length_body_True_modified, bins=50, color='blue', label='title_True', alpha=0.5)\n",
    "plt.title('body_True_modified')\n",
    "plt.show()"
   ]
  },
  {
   "cell_type": "markdown",
   "metadata": {},
   "source": [
    "#### Conclusion: As we can see from these graphs, these two features, length of titles and length of bodies, are interesting."
   ]
  },
  {
   "cell_type": "markdown",
   "metadata": {},
   "source": [
    "### NLP Analysis"
   ]
  },
  {
   "cell_type": "markdown",
   "metadata": {},
   "source": []
  },
  {
   "cell_type": "code",
   "execution_count": null,
   "metadata": {
    "collapsed": true
   },
   "outputs": [],
   "source": []
  }
 ],
 "metadata": {
  "kernelspec": {
   "display_name": "Python 3",
   "language": "python",
   "name": "python3"
  },
  "language_info": {
   "codemirror_mode": {
    "name": "ipython",
    "version": 3
   },
   "file_extension": ".py",
   "mimetype": "text/x-python",
   "name": "python",
   "nbconvert_exporter": "python",
   "pygments_lexer": "ipython3",
   "version": "3.5.3"
  }
 },
 "nbformat": 4,
 "nbformat_minor": 2
}
